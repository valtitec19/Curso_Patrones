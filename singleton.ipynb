{
 "cells": [
  {
   "cell_type": "code",
   "execution_count": 1,
   "metadata": {},
   "outputs": [
    {
     "name": "stdout",
     "output_type": "stream",
     "text": [
      "Singleton works, both variables contain the same instance.\n"
     ]
    }
   ],
   "source": [
    "class SingletonMeta(type):\n",
    "    \"\"\"\n",
    "    The Singleton class can be implemented in different ways in Python. Some\n",
    "    possible methods include: base class, decorator, metaclass. We will use the\n",
    "    metaclass because it is best suited for this purpose.\n",
    "    \"\"\"\n",
    "\n",
    "    _instances = {}\n",
    "\n",
    "    def __call__(cls, *args, **kwargs):\n",
    "        \"\"\"\n",
    "        Possible changes to the value of the `__init__` argument do not affect\n",
    "        the returned instance.\n",
    "        \"\"\"\n",
    "        if cls not in cls._instances:\n",
    "            instance = super().__call__(*args, **kwargs)\n",
    "            cls._instances[cls] = instance\n",
    "        return cls._instances[cls]\n",
    "\n",
    "\n",
    "class Singleton(metaclass=SingletonMeta):\n",
    "    def some_business_logic(self):\n",
    "        \"\"\"\n",
    "        Finally, any singleton should define some business logic, which can be\n",
    "        executed on its instance.\n",
    "        \"\"\"\n",
    "\n",
    "        # ...\n",
    "\n",
    "\n",
    "if __name__ == \"__main__\":\n",
    "    # The client code.\n",
    "\n",
    "    s1 = Singleton()\n",
    "    s2 = Singleton()\n",
    "\n",
    "    if id(s1) == id(s2):\n",
    "        print(\"Singleton works, both variables contain the same instance.\")\n",
    "    else:\n",
    "        print(\"Singleton failed, variables contain different instances.\")"
   ]
  }
 ],
 "metadata": {
  "interpreter": {
   "hash": "8467e3030731f4b4faecf2093b8722e6408cce9afdfcac0c712025ef08b3764e"
  },
  "kernelspec": {
   "display_name": "Python 3.9.7 64-bit ('base': conda)",
   "language": "python",
   "name": "python3"
  },
  "language_info": {
   "codemirror_mode": {
    "name": "ipython",
    "version": 3
   },
   "file_extension": ".py",
   "mimetype": "text/x-python",
   "name": "python",
   "nbconvert_exporter": "python",
   "pygments_lexer": "ipython3",
   "version": "3.9.7"
  },
  "orig_nbformat": 4
 },
 "nbformat": 4,
 "nbformat_minor": 2
}
